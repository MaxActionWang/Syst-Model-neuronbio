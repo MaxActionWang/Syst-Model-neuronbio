{
 "cells": [
  {
   "cell_type": "markdown",
   "metadata": {},
   "source": [
    "# NMDA homework 1, question 2 Parkinson\n",
    "王敏行 ID:2018012386 wangmx18@mails.tsinghua.edu.cn\n",
    "\n",
    "Following codes are generated with the help of official documents and books.\n",
    "\n",
    "## Part1: Logistic Regression on Parkinson dataset\n"
   ]
  },
  {
   "cell_type": "code",
   "execution_count": 16,
   "metadata": {},
   "outputs": [
    {
     "name": "stdout",
     "output_type": "stream",
     "text": [
      "Index(['MDVP:Fo(Hz)', 'MDVP:Fhi(Hz)', 'MDVP:Flo(Hz)', 'MDVP:Jitter(%)',\n",
      "       'MDVP:Jitter(Abs)', 'MDVP:RAP', 'MDVP:PPQ', 'Jitter:DDP',\n",
      "       'MDVP:Shimmer', 'MDVP:Shimmer(dB)', 'Shimmer:APQ3', 'Shimmer:APQ5',\n",
      "       'MDVP:APQ', 'Shimmer:DDA', 'NHR', 'HNR', 'RPDE', 'DFA', 'spread1',\n",
      "       'spread2', 'D2', 'PPE'],\n",
      "      dtype='object')\n",
      "data shape: (195, 22); no. positive: 147; no. negative: 48\n"
     ]
    }
   ],
   "source": [
    "from sklearn.datasets import load_breast_cancer\n",
    "import pandas as pd\n",
    "import numpy as np\n",
    "\n",
    "pa = pd.read_table('parkinsons.data',sep=\",\")\n",
    "\n",
    "x = pa.drop(['name','status'], axis=1)\n",
    "X = np.array(x)\n",
    "features = x.columns\n",
    "print(features)\n",
    "# X = np.array(pa.iloc[0,1,1,1,1,1,1,1,1,1,1,1,1,1,1,1,1,0,1,1,1,1,1,1])\n",
    "#\"status\" 0 for healthy and 1 for PD\n",
    "y = pa.status\n",
    "print('data shape: {0}; no. positive: {1}; no. negative: {2}'.format(\n",
    "    X.shape, y[y==1].shape[0], y[y==0].shape[0]))"
   ]
  },
  {
   "cell_type": "code",
   "execution_count": 17,
   "metadata": {},
   "outputs": [],
   "source": [
    "import warnings\n",
    "warnings.filterwarnings(\"ignore\")\n",
    "\n",
    "from sklearn.model_selection import train_test_split\n",
    "X_train, X_test, y_train, y_test = train_test_split(X, y, test_size=0.2)"
   ]
  },
  {
   "cell_type": "code",
   "execution_count": 18,
   "metadata": {},
   "outputs": [
    {
     "name": "stdout",
     "output_type": "stream",
     "text": [
      "LR matchs: 39/39\n",
      "SVM matchs: 39/39\n"
     ]
    }
   ],
   "source": [
    "# Logistic Regression\n",
    "from sklearn.linear_model import LogisticRegression\n",
    "LR = LogisticRegression(penalty='l1',solver='liblinear') #solver='liblinear', default solver lbfgs doesn't support l1 penalty\n",
    "LR.fit(X_train, y_train)\n",
    "y_pred = LR.predict(X_test)\n",
    "print('LR matchs: {0}/{1}'.format(np.equal(y_pred, y_test).shape[0], y_test.shape[0]))\n",
    "# SVM\n",
    "from sklearn.svm import SVC\n",
    "svm = SVC(kernel='linear')\n",
    "svm.fit(X_train, y_train)\n",
    "y_pred = svm.predict(X_test)\n",
    "print('SVM matchs: {0}/{1}'.format(np.equal(y_pred, y_test).shape[0], y_test.shape[0]))"
   ]
  },
  {
   "cell_type": "markdown",
   "metadata": {},
   "source": [
    "To obtain more solid conclusion, we repeat the train-test split process several times."
   ]
  },
  {
   "cell_type": "code",
   "execution_count": 19,
   "metadata": {},
   "outputs": [
    {
     "name": "stdout",
     "output_type": "stream",
     "text": [
      "model is LogisticRegression(penalty='l1', solver='liblinear')\n",
      "train score: 0.852564; test score: 0.820513\n",
      "model is SVC(kernel='linear')\n",
      "train score: 0.871795; test score: 0.871795\n",
      "model is LogisticRegression(penalty='l1', solver='liblinear')\n",
      "train score: 0.833333; test score: 0.897436\n",
      "model is SVC(kernel='linear')\n",
      "train score: 0.871795; test score: 0.923077\n",
      "model is LogisticRegression(penalty='l1', solver='liblinear')\n",
      "train score: 0.871795; test score: 0.820513\n",
      "model is SVC(kernel='linear')\n",
      "train score: 0.903846; test score: 0.846154\n",
      "model is LogisticRegression(penalty='l1', solver='liblinear')\n",
      "train score: 0.858974; test score: 0.820513\n",
      "model is SVC(kernel='linear')\n",
      "train score: 0.897436; test score: 0.820513\n",
      "model is LogisticRegression(penalty='l1', solver='liblinear')\n",
      "train score: 0.897436; test score: 0.743590\n",
      "model is SVC(kernel='linear')\n",
      "train score: 0.897436; test score: 0.820513\n"
     ]
    }
   ],
   "source": [
    "for i in range(5):\n",
    "    X_train, X_test, y_train, y_test = train_test_split(X, y, test_size=0.2)\n",
    "    for model in [LR, svm]:\n",
    "        print('model is', model)\n",
    "        model.fit(X_train, y_train)\n",
    "        train_score = model.score(X_train, y_train)\n",
    "        test_score = model.score(X_test, y_test)\n",
    "        print('train score: {train_score:.6f}; test score: {test_score:.6f}'.format(\n",
    "            train_score=train_score, test_score=test_score))"
   ]
  },
  {
   "cell_type": "markdown",
   "metadata": {},
   "source": [
    "上面重复了5次，从test accuracy的结果来看，线性SVM的表现更好。\n",
    "Logistic回归的目的是使得总loss最小，SVM的优化目的是使得margin最大。二者最终的目的都是使得代价函数$J(w)$最小。其中，Logistic回归采用p1正则项，其代价函数为\n",
    "$$\n",
    "J(w)=\\lambda \\sum|\\theta|+\\sum y_i log(h_{\\theta}(x_i))+(1-y_i) log(1-h_{\\theta}(x_i)))\n",
    "$$\n",
    "SVM的代价函数为\n",
    "$$\n",
    "J(w)=\\lambda \\sum\\theta^2+\\sum(h_{\\theta}(x_i)-y_i)^2\n",
    "$$\n",
    "说明这个问题情景下，采用SVM更合适。\n",
    "\n",
    "## Part 2: the most important feature"
   ]
  },
  {
   "cell_type": "code",
   "execution_count": 20,
   "metadata": {},
   "outputs": [
    {
     "name": "stdout",
     "output_type": "stream",
     "text": [
      "train score: 0.884615; test score: 0.846154 feature MDVP:Fo(Hz) 1\n",
      "train score: 0.884615; test score: 0.820513 feature MDVP:Fhi(Hz) 2\n",
      "train score: 0.858974; test score: 0.948718 feature MDVP:Flo(Hz) 3\n",
      "train score: 0.852564; test score: 0.897436 feature MDVP:Jitter(%) 4\n",
      "train score: 0.891026; test score: 0.871795 feature MDVP:Jitter(Abs) 5\n",
      "train score: 0.891026; test score: 0.897436 feature MDVP:RAP 6\n",
      "train score: 0.871795; test score: 0.846154 feature MDVP:PPQ 7\n",
      "train score: 0.923077; test score: 0.717949 feature Jitter:DDP 8\n",
      "train score: 0.865385; test score: 0.923077 feature MDVP:Shimmer 9\n",
      "train score: 0.884615; test score: 0.820513 feature MDVP:Shimmer(dB) 10\n",
      "train score: 0.878205; test score: 0.897436 feature Shimmer:APQ3 11\n",
      "train score: 0.891026; test score: 0.794872 feature Shimmer:APQ5 12\n",
      "train score: 0.884615; test score: 0.897436 feature MDVP:APQ 13\n",
      "train score: 0.865385; test score: 0.897436 feature Shimmer:DDA 14\n",
      "train score: 0.891026; test score: 0.820513 feature NHR 15\n",
      "train score: 0.878205; test score: 0.871795 feature HNR 16\n",
      "train score: 0.858974; test score: 0.897436 feature RPDE 17\n",
      "train score: 0.878205; test score: 0.846154 feature DFA 18\n",
      "train score: 0.871795; test score: 0.871795 feature spread1 19\n",
      "train score: 0.878205; test score: 0.897436 feature spread2 20\n",
      "train score: 0.897436; test score: 0.820513 feature D2 21\n",
      "train score: 0.865385; test score: 0.897436 feature PPE 22\n"
     ]
    }
   ],
   "source": [
    "feature_names = list(features)\n",
    "for i in range(22):\n",
    "    XX = np.delete(X,i, axis=1)\n",
    "    X_train, X_test, y_train, y_test = train_test_split(XX, y, test_size=0.2)\n",
    "    svm.fit(X_train, y_train)\n",
    "    train_score = svm.score(X_train, y_train)\n",
    "    test_score = svm.score(X_test, y_test)\n",
    "    print('train score: {train_score:.6f}; test score: {test_score:.6f}'.format(\n",
    "        train_score=train_score, test_score=test_score),'feature', feature_names[i], i+1)\n"
   ]
  },
  {
   "cell_type": "markdown",
   "metadata": {},
   "source": [
    "通过随机删除某一个特征，用剩下的21维特征进行训练并验证其测试集上准确度。则可以认为，test score较低的的数据集对应的去掉的特征是重要的。\n",
    "发现得到的结果与`train_test_split`中的参数`random_state`关系密切，波动较大。故可以认为，不存在对于分类贡献较大的单一特征。或者存在至少两个或以上可以用于分类的特征，从而去掉一个feature对于结果影响不大。\n",
    "方法改进：可以通过多次训练、打分、取平均值的方式减弱random_state的影响。还可以按照status和某一feature之间的信息熵变，计算出22个feature带来的信息熵变。变化最大的理应贡献最大。\n",
    "\n",
    "## Part 3: Grid Search"
   ]
  },
  {
   "cell_type": "code",
   "execution_count": 21,
   "metadata": {},
   "outputs": [
    {
     "name": "stdout",
     "output_type": "stream",
     "text": [
      "best param: {'C': 0.5644444444444445, 'gamma': 0.001}\n",
      "best score: 0.7846153846153847\n"
     ]
    },
    {
     "data": {
      "text/plain": [
       "Text(0, 0.5, 'gamma')"
      ]
     },
     "execution_count": 21,
     "metadata": {},
     "output_type": "execute_result"
    },
    {
     "data": {
      "image/png": "[encoded data removed]",
      "text/plain": [
       "<Figure size 432x288 with 1 Axes>"
      ]
     },
     "metadata": {
      "needs_background": "light"
     },
     "output_type": "display_data"
    }
   ],
   "source": [
    "from sklearn.model_selection import GridSearchCV\n",
    "import matplotlib.pyplot as plt\n",
    "\n",
    "range_gamma = np.linspace(0.001, 5, 20)\n",
    "range_c = np.linspace(0.01,5,10)\n",
    "param_grid = {'gamma': range_gamma,'C':range_c}\n",
    "clf = GridSearchCV(SVC(kernel='rbf'), param_grid, cv=5, return_train_score=True)\n",
    "clf.fit(X, y)\n",
    "print(\"best param: {0}\\nbest score: {1}\".format(clf.best_params_,clf.best_score_))\n",
    "clf.best_estimator_\n",
    "\n",
    "best_point = list(clf.best_params_.values())\n",
    "C_best = best_point[0]\n",
    "gamma_best = best_point[1]\n",
    "plt.scatter(C_best,gamma_best)\n",
    "plt.xlabel('C')\n",
    "plt.ylabel('gamma')"
   ]
  }
 ],
 "metadata": {
  "interpreter": {
   "hash": "93cb51f5991ec0b90525fa9a9f56cc67747d2aebc05662b8a7d03c580c444d66"
  },
  "kernelspec": {
   "display_name": "Python 3.8.5 64-bit ('base': conda)",
   "name": "python3"
  },
  "language_info": {
   "codemirror_mode": {
    "name": "ipython",
    "version": 3
   },
   "file_extension": ".py",
   "mimetype": "text/x-python",
   "name": "python",
   "nbconvert_exporter": "python",
   "pygments_lexer": "ipython3",
   "version": "3.8.12"
  },
  "orig_nbformat": 4
 },
 "nbformat": 4,
 "nbformat_minor": 2
}
